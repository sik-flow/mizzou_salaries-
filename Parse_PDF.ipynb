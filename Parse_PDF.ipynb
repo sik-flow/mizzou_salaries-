{
 "cells": [
  {
   "cell_type": "code",
   "execution_count": 73,
   "metadata": {
    "collapsed": true
   },
   "outputs": [],
   "source": [
    "import io\n",
    " \n",
    "from pdfminer.converter import TextConverter\n",
    "from pdfminer.pdfinterp import PDFPageInterpreter\n",
    "from pdfminer.pdfinterp import PDFResourceManager\n",
    "from pdfminer.pdfpage import PDFPage\n",
    "import re\n",
    "import pandas as pd"
   ]
  },
  {
   "cell_type": "code",
   "execution_count": 74,
   "metadata": {
    "collapsed": true
   },
   "outputs": [],
   "source": [
    "def extract_text_from_pdf(pdf_path):\n",
    "    resource_manager = PDFResourceManager()\n",
    "    fake_file_handle = io.StringIO()\n",
    "    converter = TextConverter(resource_manager, fake_file_handle)\n",
    "    page_interpreter = PDFPageInterpreter(resource_manager, converter)\n",
    " \n",
    "    with open(pdf_path, 'rb') as fh:\n",
    "        for page in PDFPage.get_pages(fh, \n",
    "                                      caching=True,\n",
    "                                      check_extractable=True):\n",
    "            page_interpreter.process_page(page)\n",
    " \n",
    "        text = fake_file_handle.getvalue()\n",
    " \n",
    "    # close open handles\n",
    "    converter.close()\n",
    "    fake_file_handle.close()\n",
    " \n",
    "    if text:\n",
    "        return text"
   ]
  },
  {
   "cell_type": "code",
   "execution_count": 75,
   "metadata": {
    "collapsed": true
   },
   "outputs": [],
   "source": [
    "my_text = extract_text_from_pdf('AnnualSalaryReport2018-2019.pdf')"
   ]
  },
  {
   "cell_type": "code",
   "execution_count": 76,
   "metadata": {
    "collapsed": true
   },
   "outputs": [],
   "source": [
    "# Grab COLUMBIA First\n",
    "last = my_text[36:].split('COLUM')[-1]\n",
    "columbia = my_text[36:].split('COLUM')\n",
    "del columbia[-1]\n",
    "del columbia[0]"
   ]
  },
  {
   "cell_type": "code",
   "execution_count": 77,
   "metadata": {
    "collapsed": true
   },
   "outputs": [],
   "source": [
    "def get_name(row):\n",
    "    first_part = row[12:]\n",
    "    last = first_part.split(',')[0]\n",
    "    middle = ''\n",
    "    for count, x in enumerate(first_part.split(',')[1].split(' ')):\n",
    "        if (len(re.findall('[A-Z][^A-Z]*',x)) == 1) & (count == 0):\n",
    "            first = re.findall('[A-Z][^A-Z]*',x)[0]\n",
    "        if (len(re.findall('[A-Z][^A-Z]*',x)) == 1) & (count > 0):\n",
    "                middle += f' {x}'\n",
    "        if (len(re.findall('[A-Z][^A-Z]*',x)) > 1) & (count > 0):\n",
    "            middle +=  f\" {re.findall('[A-Z][^A-Z]*',x)[0]}\"\n",
    "            splitter = first + \" \" + middle.lstrip()\n",
    "            break\n",
    "        if (len(re.findall('[A-Z][^A-Z]*',x)) > 1) & (count == 0):\n",
    "            first = re.findall('[A-Z][^A-Z]*',x)[0]\n",
    "            splitter = first\n",
    "            break\n",
    "    middle = middle.lstrip()\n",
    "    return first, middle, last, splitter"
   ]
  },
  {
   "cell_type": "code",
   "execution_count": 78,
   "metadata": {
    "collapsed": true
   },
   "outputs": [],
   "source": [
    "def get_department(row, my_split):\n",
    "    department = ''\n",
    "    if len(row.split(my_split)[1].split(' ')) == 1:\n",
    "        department = re.findall('[A-Z][^A-Z]*', row.split(my_split)[1])[0]\n",
    "    else:\n",
    "        for counter, x in enumerate(row.split(my_split)[1].split(' ')):\n",
    "            try:\n",
    "                int(x[0])\n",
    "                department += f\" {x[0]}\"\n",
    "                break\n",
    "            except:\n",
    "                if (len(re.findall('[A-Z][^A-Z]*',x)) == 1):\n",
    "                    department += f\" {re.findall('[A-Z][^A-Z]*',x)[0]}\"\n",
    "                elif (len(re.findall('[A-Z][^A-Z]*',x)) == 0):\n",
    "                    department += f\" {x}\"\n",
    "                elif (len(re.findall('[A-Z][^A-Z]*',x)) > 1) & (counter == 0):\n",
    "                    department += f\" {x}\"\n",
    "                elif (len(re.findall('[A-Z][^A-Z]*',x)) > 1):\n",
    "                    department += f\" {re.findall('[A-Z][^A-Z]*',x)[0]}\"\n",
    "                    break\n",
    "    department = department.strip()\n",
    "    return department"
   ]
  },
  {
   "cell_type": "code",
   "execution_count": 79,
   "metadata": {
    "collapsed": true
   },
   "outputs": [],
   "source": [
    "def get_title_rate(row, my_split):\n",
    "    splitt = get_department(row, my_split)\n",
    "    title = row.split(splitt)[1].split('$')[0]\n",
    "    rate = row.split(splitt)[1].split('$')[1]\n",
    "    return title, rate"
   ]
  },
  {
   "cell_type": "code",
   "execution_count": 80,
   "metadata": {
    "collapsed": true
   },
   "outputs": [],
   "source": [
    "def clean_row(row):\n",
    "    first_name, middle_name, last_name, splitter = get_name(row)\n",
    "    department = get_department(row, splitter)\n",
    "    title, rate = get_title_rate(row, splitter)\n",
    "    return (first_name, last_name, middle_name, department, title, rate)"
   ]
  },
  {
   "cell_type": "code",
   "execution_count": 81,
   "metadata": {},
   "outputs": [
    {
     "name": "stdout",
     "output_type": "stream",
     "text": [
      "Row 0 out of 17136\n",
      "Row 250 out of 17136\n",
      "Row 500 out of 17136\n",
      "Row 750 out of 17136\n",
      "Row 1000 out of 17136\n",
      "Row 1250 out of 17136\n",
      "Row 1500 out of 17136\n",
      "Row 1750 out of 17136\n",
      "Row 2000 out of 17136\n",
      "Row 2250 out of 17136\n",
      "Row 2500 out of 17136\n",
      "Row 2750 out of 17136\n",
      "Row 3000 out of 17136\n",
      "Row 3250 out of 17136\n",
      "Row 3500 out of 17136\n",
      "Row 3750 out of 17136\n",
      "Row 4000 out of 17136\n",
      "Row 4250 out of 17136\n",
      "Row 4500 out of 17136\n",
      "Row 4750 out of 17136\n",
      "Row 5000 out of 17136\n",
      "Row 5250 out of 17136\n",
      "Row 5500 out of 17136\n",
      "Row 5750 out of 17136\n",
      "Row 6000 out of 17136\n",
      "Row 6250 out of 17136\n",
      "Row 6500 out of 17136\n",
      "Row 6750 out of 17136\n",
      "Row 7000 out of 17136\n",
      "Row 7250 out of 17136\n",
      "Row 7500 out of 17136\n",
      "Row 7750 out of 17136\n",
      "Row 8000 out of 17136\n",
      "Row 8250 out of 17136\n",
      "Row 8500 out of 17136\n",
      "Row 8750 out of 17136\n",
      "Row 9000 out of 17136\n",
      "Row 9250 out of 17136\n",
      "Row 9500 out of 17136\n",
      "Row 9750 out of 17136\n",
      "Row 10000 out of 17136\n",
      "Row 10250 out of 17136\n",
      "Row 10500 out of 17136\n",
      "Row 10750 out of 17136\n",
      "Row 11000 out of 17136\n",
      "Row 11250 out of 17136\n",
      "Row 11500 out of 17136\n",
      "Row 11750 out of 17136\n",
      "Row 12000 out of 17136\n",
      "Row 12250 out of 17136\n",
      "Row 12500 out of 17136\n",
      "Row 12750 out of 17136\n",
      "Row 13000 out of 17136\n",
      "Row 13250 out of 17136\n",
      "Row 13500 out of 17136\n",
      "Row 13750 out of 17136\n",
      "Row 14000 out of 17136\n",
      "Row 14250 out of 17136\n",
      "Row 14500 out of 17136\n",
      "Row 14750 out of 17136\n",
      "Row 15000 out of 17136\n",
      "Row 15250 out of 17136\n",
      "Row 15500 out of 17136\n",
      "Row 15750 out of 17136\n",
      "Row 16000 out of 17136\n",
      "Row 16250 out of 17136\n",
      "Row 16500 out of 17136\n",
      "Row 16750 out of 17136\n",
      "Row 17000 out of 17136\n"
     ]
    }
   ],
   "source": [
    "f_name = []\n",
    "l_name = []\n",
    "m_name = []\n",
    "dep = []\n",
    "title_list = []\n",
    "rate_list = []\n",
    "probs = []\n",
    "for counter, x in enumerate(columbia):\n",
    "    if counter % 250 == 0:\n",
    "        print(f'Row {counter} out of {len(columbia)}')\n",
    "    try:\n",
    "        fn, ln, mn, dpt, ttl, rt = clean_row(x)\n",
    "        f_name.append(fn)\n",
    "        l_name.append(ln)\n",
    "        m_name.append(mn)\n",
    "        dep.append(dpt)\n",
    "        title_list.append(ttl)\n",
    "        rate_list.append(rt)\n",
    "    except:\n",
    "        probs.append(counter)"
   ]
  },
  {
   "cell_type": "code",
   "execution_count": 82,
   "metadata": {
    "collapsed": true
   },
   "outputs": [],
   "source": [
    "# Grab last row from Columbia \n",
    "last_col = last[:55]\n",
    "fn, ln, mn, dpt, ttl, rt = clean_row(last_col)\n",
    "f_name.append(fn)\n",
    "l_name.append(ln)\n",
    "m_name.append(mn)\n",
    "dep.append(dpt)\n",
    "title_list.append(ttl)\n",
    "rate_list.append(rt)"
   ]
  },
  {
   "cell_type": "code",
   "execution_count": 83,
   "metadata": {
    "collapsed": true
   },
   "outputs": [],
   "source": [
    "df_columbia = pd.DataFrame({'First_Name': f_name,\n",
    "                           'Middle_Name': m_name,\n",
    "                           'Last_name': l_name,\n",
    "                           'Department': dep,\n",
    "                           'Job_Title': title_list,\n",
    "                           'Rate': rate_list})"
   ]
  },
  {
   "cell_type": "code",
   "execution_count": 84,
   "metadata": {
    "collapsed": true
   },
   "outputs": [],
   "source": [
    "df_columbia['Location'] = 'COLUM/HOSPT/UMSYS'"
   ]
  },
  {
   "cell_type": "code",
   "execution_count": 85,
   "metadata": {},
   "outputs": [
    {
     "data": {
      "text/html": [
       "<div>\n",
       "<style scoped>\n",
       "    .dataframe tbody tr th:only-of-type {\n",
       "        vertical-align: middle;\n",
       "    }\n",
       "\n",
       "    .dataframe tbody tr th {\n",
       "        vertical-align: top;\n",
       "    }\n",
       "\n",
       "    .dataframe thead th {\n",
       "        text-align: right;\n",
       "    }\n",
       "</style>\n",
       "<table border=\"1\" class=\"dataframe\">\n",
       "  <thead>\n",
       "    <tr style=\"text-align: right;\">\n",
       "      <th></th>\n",
       "      <th>First_Name</th>\n",
       "      <th>Middle_Name</th>\n",
       "      <th>Last_name</th>\n",
       "      <th>Department</th>\n",
       "      <th>Job_Title</th>\n",
       "      <th>Rate</th>\n",
       "      <th>Location</th>\n",
       "    </tr>\n",
       "  </thead>\n",
       "  <tbody>\n",
       "    <tr>\n",
       "      <th>0</th>\n",
       "      <td>Marta</td>\n",
       "      <td></td>\n",
       "      <td>Abadi</td>\n",
       "      <td>Staffing Support Services</td>\n",
       "      <td>NURSE, STAFF FLT POOL</td>\n",
       "      <td>42.00</td>\n",
       "      <td>COLUM/HOSPT/UMSYS</td>\n",
       "    </tr>\n",
       "    <tr>\n",
       "      <th>1</th>\n",
       "      <td>Lysander</td>\n",
       "      <td>Orbita</td>\n",
       "      <td>Abadia</td>\n",
       "      <td>Clinical Simulation Center</td>\n",
       "      <td>TEACHING AST</td>\n",
       "      <td>13.00</td>\n",
       "      <td>COLUM/HOSPT/UMSYS</td>\n",
       "    </tr>\n",
       "    <tr>\n",
       "      <th>2</th>\n",
       "      <td>Erin</td>\n",
       "      <td>Rochelle</td>\n",
       "      <td>Abadir</td>\n",
       "      <td>School of Natural Resources</td>\n",
       "      <td>RESEARCH/LAB TECHNICIAN SR</td>\n",
       "      <td>16.45</td>\n",
       "      <td>COLUM/HOSPT/UMSYS</td>\n",
       "    </tr>\n",
       "    <tr>\n",
       "      <th>3</th>\n",
       "      <td>Nilvie</td>\n",
       "      <td>O</td>\n",
       "      <td>Abayan</td>\n",
       "      <td>Sterile Processing</td>\n",
       "      <td>SUPV STERILE PROCESSING</td>\n",
       "      <td>25.28</td>\n",
       "      <td>COLUM/HOSPT/UMSYS</td>\n",
       "    </tr>\n",
       "    <tr>\n",
       "      <th>4</th>\n",
       "      <td>Emily</td>\n",
       "      <td>Elizabeth</td>\n",
       "      <td>Abbene</td>\n",
       "      <td>Psychological Sciences</td>\n",
       "      <td>RESEARCH/LAB TECHNICIAN SR</td>\n",
       "      <td>17.31</td>\n",
       "      <td>COLUM/HOSPT/UMSYS</td>\n",
       "    </tr>\n",
       "  </tbody>\n",
       "</table>\n",
       "</div>"
      ],
      "text/plain": [
       "  First_Name Middle_Name Last_name                   Department  \\\n",
       "0      Marta                 Abadi    Staffing Support Services   \n",
       "1   Lysander      Orbita    Abadia   Clinical Simulation Center   \n",
       "2       Erin    Rochelle    Abadir  School of Natural Resources   \n",
       "3     Nilvie           O    Abayan           Sterile Processing   \n",
       "4      Emily   Elizabeth    Abbene       Psychological Sciences   \n",
       "\n",
       "                    Job_Title   Rate           Location  \n",
       "0       NURSE, STAFF FLT POOL  42.00  COLUM/HOSPT/UMSYS  \n",
       "1                TEACHING AST  13.00  COLUM/HOSPT/UMSYS  \n",
       "2  RESEARCH/LAB TECHNICIAN SR  16.45  COLUM/HOSPT/UMSYS  \n",
       "3     SUPV STERILE PROCESSING  25.28  COLUM/HOSPT/UMSYS  \n",
       "4  RESEARCH/LAB TECHNICIAN SR  17.31  COLUM/HOSPT/UMSYS  "
      ]
     },
     "execution_count": 85,
     "metadata": {},
     "output_type": "execute_result"
    }
   ],
   "source": [
    "df_columbia.head()"
   ]
  },
  {
   "cell_type": "code",
   "execution_count": 86,
   "metadata": {},
   "outputs": [
    {
     "data": {
      "text/html": [
       "<div>\n",
       "<style scoped>\n",
       "    .dataframe tbody tr th:only-of-type {\n",
       "        vertical-align: middle;\n",
       "    }\n",
       "\n",
       "    .dataframe tbody tr th {\n",
       "        vertical-align: top;\n",
       "    }\n",
       "\n",
       "    .dataframe thead th {\n",
       "        text-align: right;\n",
       "    }\n",
       "</style>\n",
       "<table border=\"1\" class=\"dataframe\">\n",
       "  <thead>\n",
       "    <tr style=\"text-align: right;\">\n",
       "      <th></th>\n",
       "      <th>First_Name</th>\n",
       "      <th>Middle_Name</th>\n",
       "      <th>Last_name</th>\n",
       "      <th>Department</th>\n",
       "      <th>Job_Title</th>\n",
       "      <th>Rate</th>\n",
       "      <th>Location</th>\n",
       "    </tr>\n",
       "  </thead>\n",
       "  <tbody>\n",
       "    <tr>\n",
       "      <th>14390</th>\n",
       "      <td>James</td>\n",
       "      <td>Patrick</td>\n",
       "      <td>Stannard</td>\n",
       "      <td>Orthopaedic Surgery</td>\n",
       "      <td>PROFESSOR</td>\n",
       "      <td>911,225</td>\n",
       "      <td>COLUM/HOSPT/UMSYS</td>\n",
       "    </tr>\n",
       "    <tr>\n",
       "      <th>14391</th>\n",
       "      <td>Rebecca</td>\n",
       "      <td>Faith Emiko</td>\n",
       "      <td>Stannard</td>\n",
       "      <td>Peds O</td>\n",
       "      <td>PREHAB THERAPY AIDE</td>\n",
       "      <td>14.00</td>\n",
       "      <td>COLUM/HOSPT/UMSYS</td>\n",
       "    </tr>\n",
       "  </tbody>\n",
       "</table>\n",
       "</div>"
      ],
      "text/plain": [
       "      First_Name  Middle_Name Last_name           Department  \\\n",
       "14390      James      Patrick  Stannard  Orthopaedic Surgery   \n",
       "14391    Rebecca  Faith Emiko  Stannard               Peds O   \n",
       "\n",
       "                 Job_Title     Rate           Location  \n",
       "14390            PROFESSOR  911,225  COLUM/HOSPT/UMSYS  \n",
       "14391  PREHAB THERAPY AIDE    14.00  COLUM/HOSPT/UMSYS  "
      ]
     },
     "execution_count": 86,
     "metadata": {},
     "output_type": "execute_result"
    }
   ],
   "source": [
    "df_columbia[df_columbia['Last_name'] == 'Stannard']"
   ]
  },
  {
   "cell_type": "code",
   "execution_count": 87,
   "metadata": {
    "collapsed": true
   },
   "outputs": [],
   "source": [
    "# Make KC DataFrame\n",
    "kc = last[55:].split('KCITY')\n",
    "del kc[0]\n",
    "rolla = kc[-1]\n",
    "del kc[-1]"
   ]
  },
  {
   "cell_type": "code",
   "execution_count": 88,
   "metadata": {
    "collapsed": true
   },
   "outputs": [],
   "source": [
    "def get_name_not_columbia(row):\n",
    "    last = row.split(',')[0]\n",
    "    middle = ''\n",
    "    for count, x in enumerate(row.split(',')[1].split(' ')):\n",
    "        if (len(re.findall('[A-Z][^A-Z]*',x)) == 1) & (count == 0):\n",
    "            first = re.findall('[A-Z][^A-Z]*',x)[0]\n",
    "        if (len(re.findall('[A-Z][^A-Z]*',x)) == 1) & (count > 0):\n",
    "                middle += f' {x}'\n",
    "        if (len(re.findall('[A-Z][^A-Z]*',x)) > 1) & (count > 0):\n",
    "            middle +=  f\" {re.findall('[A-Z][^A-Z]*',x)[0]}\"\n",
    "            splitter = first + \" \" + middle.lstrip()\n",
    "            break\n",
    "        if (len(re.findall('[A-Z][^A-Z]*',x)) > 1) & (count == 0):\n",
    "            first = re.findall('[A-Z][^A-Z]*',x)[0]\n",
    "            splitter = first\n",
    "            break\n",
    "    middle = middle.lstrip()\n",
    "    return first, middle, last, splitter"
   ]
  },
  {
   "cell_type": "code",
   "execution_count": 89,
   "metadata": {
    "collapsed": true
   },
   "outputs": [],
   "source": [
    "def clean_row(row):\n",
    "    first_name, middle_name, last_name, splitter = get_name_not_columbia(row)\n",
    "    department = get_department(row, splitter)\n",
    "    title, rate = get_title_rate(row, splitter)\n",
    "    return (first_name, last_name, middle_name, department, title, rate)"
   ]
  },
  {
   "cell_type": "code",
   "execution_count": 90,
   "metadata": {},
   "outputs": [
    {
     "name": "stdout",
     "output_type": "stream",
     "text": [
      "Row 0 out of 3175\n",
      "Row 250 out of 3175\n",
      "Row 500 out of 3175\n",
      "Row 750 out of 3175\n",
      "Row 1000 out of 3175\n",
      "Row 1250 out of 3175\n",
      "Row 1500 out of 3175\n",
      "Row 1750 out of 3175\n",
      "Row 2000 out of 3175\n",
      "Row 2250 out of 3175\n",
      "Row 2500 out of 3175\n",
      "Row 2750 out of 3175\n",
      "Row 3000 out of 3175\n"
     ]
    }
   ],
   "source": [
    "f_name = []\n",
    "l_name = []\n",
    "m_name = []\n",
    "dep = []\n",
    "title_list = []\n",
    "rate_list = []\n",
    "probs = []\n",
    "for counter, x in enumerate(kc):\n",
    "    if counter % 250 == 0:\n",
    "        print(f'Row {counter} out of {len(kc)}')\n",
    "    try:\n",
    "        fn, ln, mn, dpt, ttl, rt = clean_row(x)\n",
    "        f_name.append(fn)\n",
    "        l_name.append(ln)\n",
    "        m_name.append(mn)\n",
    "        dep.append(dpt)\n",
    "        title_list.append(ttl)\n",
    "        rate_list.append(rt)\n",
    "    except:\n",
    "        probs.append(counter)"
   ]
  },
  {
   "cell_type": "code",
   "execution_count": 91,
   "metadata": {
    "collapsed": true
   },
   "outputs": [],
   "source": [
    "# Add last row from KC\n",
    "fn, ln, mn, dpt, ttl, rt = clean_row(rolla[:50])\n",
    "f_name.append(fn)\n",
    "l_name.append(ln)\n",
    "m_name.append(mn)\n",
    "dep.append(dpt)\n",
    "title_list.append(ttl)\n",
    "rate_list.append(rt)"
   ]
  },
  {
   "cell_type": "code",
   "execution_count": 92,
   "metadata": {
    "collapsed": true
   },
   "outputs": [],
   "source": [
    "df_kc = pd.DataFrame({'First_Name': f_name,\n",
    "                           'Middle_Name': m_name,\n",
    "                           'Last_name': l_name,\n",
    "                           'Department': dep,\n",
    "                           'Job_Title': title_list,\n",
    "                           'Rate': rate_list})"
   ]
  },
  {
   "cell_type": "code",
   "execution_count": 93,
   "metadata": {
    "collapsed": true
   },
   "outputs": [],
   "source": [
    "df_kc['Location'] = 'KCITY'"
   ]
  },
  {
   "cell_type": "code",
   "execution_count": 94,
   "metadata": {
    "collapsed": true
   },
   "outputs": [],
   "source": [
    "# Make Rolla DataFrame\n",
    "rolla = rolla[50:].split('ROLLA')\n",
    "del rolla[0]\n",
    "stl = rolla[-1]\n",
    "del rolla[-1]"
   ]
  },
  {
   "cell_type": "code",
   "execution_count": 95,
   "metadata": {},
   "outputs": [
    {
     "name": "stdout",
     "output_type": "stream",
     "text": [
      "Row 0 out of 3175\n",
      "Row 250 out of 3175\n",
      "Row 500 out of 3175\n",
      "Row 750 out of 3175\n",
      "Row 1000 out of 3175\n",
      "Row 1250 out of 3175\n"
     ]
    }
   ],
   "source": [
    "f_name = []\n",
    "l_name = []\n",
    "m_name = []\n",
    "dep = []\n",
    "title_list = []\n",
    "rate_list = []\n",
    "probs = []\n",
    "for counter, x in enumerate(rolla):\n",
    "    if counter % 250 == 0:\n",
    "        print(f'Row {counter} out of {len(kc)}')\n",
    "    try:\n",
    "        fn, ln, mn, dpt, ttl, rt = clean_row(x)\n",
    "        f_name.append(fn)\n",
    "        l_name.append(ln)\n",
    "        m_name.append(mn)\n",
    "        dep.append(dpt)\n",
    "        title_list.append(ttl)\n",
    "        rate_list.append(rt)\n",
    "    except:\n",
    "        probs.append(counter)"
   ]
  },
  {
   "cell_type": "code",
   "execution_count": 96,
   "metadata": {
    "collapsed": true
   },
   "outputs": [],
   "source": [
    "fn, ln, mn, dpt, ttl, rt = clean_row(stl[:90])\n",
    "f_name.append(fn)\n",
    "l_name.append(ln)\n",
    "m_name.append(mn)\n",
    "dep.append(dpt)\n",
    "title_list.append(ttl)\n",
    "rate_list.append(rt)"
   ]
  },
  {
   "cell_type": "code",
   "execution_count": 97,
   "metadata": {
    "collapsed": true
   },
   "outputs": [],
   "source": [
    "df_rolla = pd.DataFrame({'First_Name': f_name,\n",
    "                           'Middle_Name': m_name,\n",
    "                           'Last_name': l_name,\n",
    "                           'Department': dep,\n",
    "                           'Job_Title': title_list,\n",
    "                           'Rate': rate_list})"
   ]
  },
  {
   "cell_type": "code",
   "execution_count": 98,
   "metadata": {
    "collapsed": true
   },
   "outputs": [],
   "source": [
    "df_rolla['Location'] = 'ROLLA'"
   ]
  },
  {
   "cell_type": "code",
   "execution_count": 99,
   "metadata": {
    "collapsed": true
   },
   "outputs": [],
   "source": [
    "# Make STL Dataframe\n",
    "stl = stl[90:].split('STLOU')\n",
    "del stl[0]"
   ]
  },
  {
   "cell_type": "code",
   "execution_count": 100,
   "metadata": {},
   "outputs": [
    {
     "name": "stdout",
     "output_type": "stream",
     "text": [
      "Row 0 out of 3175\n",
      "Row 250 out of 3175\n",
      "Row 500 out of 3175\n",
      "Row 750 out of 3175\n",
      "Row 1000 out of 3175\n",
      "Row 1250 out of 3175\n",
      "Row 1500 out of 3175\n",
      "Row 1750 out of 3175\n"
     ]
    }
   ],
   "source": [
    "f_name = []\n",
    "l_name = []\n",
    "m_name = []\n",
    "dep = []\n",
    "title_list = []\n",
    "rate_list = []\n",
    "probs = []\n",
    "for counter, x in enumerate(stl):\n",
    "    if counter % 250 == 0:\n",
    "        print(f'Row {counter} out of {len(kc)}')\n",
    "    try:\n",
    "        fn, ln, mn, dpt, ttl, rt = clean_row(x)\n",
    "        f_name.append(fn)\n",
    "        l_name.append(ln)\n",
    "        m_name.append(mn)\n",
    "        dep.append(dpt)\n",
    "        title_list.append(ttl)\n",
    "        rate_list.append(rt)\n",
    "    except:\n",
    "        probs.append(counter)"
   ]
  },
  {
   "cell_type": "code",
   "execution_count": 101,
   "metadata": {
    "collapsed": true
   },
   "outputs": [],
   "source": [
    "df_stl = pd.DataFrame({'First_Name': f_name,\n",
    "                           'Middle_Name': m_name,\n",
    "                           'Last_name': l_name,\n",
    "                           'Department': dep,\n",
    "                           'Job_Title': title_list,\n",
    "                           'Rate': rate_list})"
   ]
  },
  {
   "cell_type": "code",
   "execution_count": 102,
   "metadata": {
    "collapsed": true
   },
   "outputs": [],
   "source": [
    "df_stl['Location'] = 'STLOU'"
   ]
  },
  {
   "cell_type": "code",
   "execution_count": 103,
   "metadata": {
    "collapsed": true
   },
   "outputs": [],
   "source": [
    "df_columbia.to_csv('./data/columbia.csv', index = False)\n",
    "df_kc.to_csv('./data/kc.csv', index = False)\n",
    "df_rolla.to_csv('./data/rolla.csv', index = False)\n",
    "df_stl.to_csv('./data/stl.csv', index = False)"
   ]
  },
  {
   "cell_type": "code",
   "execution_count": 104,
   "metadata": {},
   "outputs": [
    {
     "data": {
      "text/plain": [
       "((17069, 7), (3141, 7), (1495, 7), (1876, 7))"
      ]
     },
     "execution_count": 104,
     "metadata": {},
     "output_type": "execute_result"
    }
   ],
   "source": [
    "df_columbia.shape, df_kc.shape, df_rolla.shape, df_stl.shape"
   ]
  },
  {
   "cell_type": "code",
   "execution_count": 105,
   "metadata": {
    "collapsed": true
   },
   "outputs": [],
   "source": [
    "# make error dataframe"
   ]
  },
  {
   "cell_type": "code",
   "execution_count": 106,
   "metadata": {
    "collapsed": true
   },
   "outputs": [],
   "source": [
    "location = ['Columbia', 'KC', 'Rolla', 'STL']\n",
    "actual_rows = [df_columbia.shape[0], df_kc.shape[0], df_rolla.shape[0], df_stl.shape[0]]\n",
    "last_row = 1\n",
    "expected_rows = [len(columbia) + last_row, len(kc) + last_row, len(rolla) + last_row, len(stl)]"
   ]
  },
  {
   "cell_type": "code",
   "execution_count": 107,
   "metadata": {
    "collapsed": true
   },
   "outputs": [],
   "source": [
    "error_df = pd.DataFrame({'Location': location,\n",
    "                        'actual_rows': actual_rows,\n",
    "                        'expected_rows': expected_rows})"
   ]
  },
  {
   "cell_type": "code",
   "execution_count": 108,
   "metadata": {
    "collapsed": true
   },
   "outputs": [],
   "source": [
    "error_df['Percentage_of_Actual_Rows'] = error_df['actual_rows'] / error_df['expected_rows']"
   ]
  },
  {
   "cell_type": "code",
   "execution_count": 109,
   "metadata": {},
   "outputs": [
    {
     "data": {
      "text/html": [
       "<div>\n",
       "<style scoped>\n",
       "    .dataframe tbody tr th:only-of-type {\n",
       "        vertical-align: middle;\n",
       "    }\n",
       "\n",
       "    .dataframe tbody tr th {\n",
       "        vertical-align: top;\n",
       "    }\n",
       "\n",
       "    .dataframe thead th {\n",
       "        text-align: right;\n",
       "    }\n",
       "</style>\n",
       "<table border=\"1\" class=\"dataframe\">\n",
       "  <thead>\n",
       "    <tr style=\"text-align: right;\">\n",
       "      <th></th>\n",
       "      <th>Location</th>\n",
       "      <th>actual_rows</th>\n",
       "      <th>expected_rows</th>\n",
       "      <th>Percentage_of_Actual_Rows</th>\n",
       "    </tr>\n",
       "  </thead>\n",
       "  <tbody>\n",
       "    <tr>\n",
       "      <th>0</th>\n",
       "      <td>Columbia</td>\n",
       "      <td>17069</td>\n",
       "      <td>17137</td>\n",
       "      <td>0.996032</td>\n",
       "    </tr>\n",
       "    <tr>\n",
       "      <th>1</th>\n",
       "      <td>KC</td>\n",
       "      <td>3141</td>\n",
       "      <td>3176</td>\n",
       "      <td>0.988980</td>\n",
       "    </tr>\n",
       "    <tr>\n",
       "      <th>2</th>\n",
       "      <td>Rolla</td>\n",
       "      <td>1495</td>\n",
       "      <td>1496</td>\n",
       "      <td>0.999332</td>\n",
       "    </tr>\n",
       "    <tr>\n",
       "      <th>3</th>\n",
       "      <td>STL</td>\n",
       "      <td>1876</td>\n",
       "      <td>1879</td>\n",
       "      <td>0.998403</td>\n",
       "    </tr>\n",
       "  </tbody>\n",
       "</table>\n",
       "</div>"
      ],
      "text/plain": [
       "   Location  actual_rows  expected_rows  Percentage_of_Actual_Rows\n",
       "0  Columbia        17069          17137                   0.996032\n",
       "1        KC         3141           3176                   0.988980\n",
       "2     Rolla         1495           1496                   0.999332\n",
       "3       STL         1876           1879                   0.998403"
      ]
     },
     "execution_count": 109,
     "metadata": {},
     "output_type": "execute_result"
    }
   ],
   "source": [
    "error_df"
   ]
  },
  {
   "cell_type": "code",
   "execution_count": 110,
   "metadata": {},
   "outputs": [
    {
     "data": {
      "text/plain": [
       "0.9954829449510301"
      ]
     },
     "execution_count": 110,
     "metadata": {},
     "output_type": "execute_result"
    }
   ],
   "source": [
    "error_df['actual_rows'].sum() / error_df['expected_rows'].sum() "
   ]
  }
 ],
 "metadata": {
  "kernelspec": {
   "display_name": "Python 3",
   "language": "python",
   "name": "python3"
  },
  "language_info": {
   "codemirror_mode": {
    "name": "ipython",
    "version": 3
   },
   "file_extension": ".py",
   "mimetype": "text/x-python",
   "name": "python",
   "nbconvert_exporter": "python",
   "pygments_lexer": "ipython3",
   "version": "3.6.5"
  }
 },
 "nbformat": 4,
 "nbformat_minor": 2
}

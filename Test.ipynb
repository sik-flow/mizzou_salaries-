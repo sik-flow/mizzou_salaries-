{
 "cells": [
  {
   "cell_type": "code",
   "execution_count": 32,
   "metadata": {
    "collapsed": true
   },
   "outputs": [],
   "source": [
    "import pandas as pd\n",
    "import numpy as np\n",
    "import matplotlib.pyplot as plt\n",
    "plt.style.use('ggplot')"
   ]
  },
  {
   "cell_type": "code",
   "execution_count": 2,
   "metadata": {
    "collapsed": true
   },
   "outputs": [],
   "source": [
    "df = pd.read_csv('df_salary.csv')"
   ]
  },
  {
   "cell_type": "code",
   "execution_count": 3,
   "metadata": {},
   "outputs": [
    {
     "data": {
      "text/html": [
       "<div>\n",
       "<style scoped>\n",
       "    .dataframe tbody tr th:only-of-type {\n",
       "        vertical-align: middle;\n",
       "    }\n",
       "\n",
       "    .dataframe tbody tr th {\n",
       "        vertical-align: top;\n",
       "    }\n",
       "\n",
       "    .dataframe thead th {\n",
       "        text-align: right;\n",
       "    }\n",
       "</style>\n",
       "<table border=\"1\" class=\"dataframe\">\n",
       "  <thead>\n",
       "    <tr style=\"text-align: right;\">\n",
       "      <th></th>\n",
       "      <th>First_Name</th>\n",
       "      <th>Middle_Name</th>\n",
       "      <th>Last_name</th>\n",
       "      <th>Department</th>\n",
       "      <th>Job_Title</th>\n",
       "      <th>Rate</th>\n",
       "      <th>Location</th>\n",
       "      <th>Hourly_Salary</th>\n",
       "      <th>Gender_Guess</th>\n",
       "    </tr>\n",
       "  </thead>\n",
       "  <tbody>\n",
       "    <tr>\n",
       "      <th>0</th>\n",
       "      <td>Carmen</td>\n",
       "      <td>Casanova</td>\n",
       "      <td>Abbott</td>\n",
       "      <td>SHP/Physical Therapy</td>\n",
       "      <td>PROF, CLINCL</td>\n",
       "      <td>69287.0</td>\n",
       "      <td>COLUM/HOSPT/UMSYS</td>\n",
       "      <td>salary</td>\n",
       "      <td>female</td>\n",
       "    </tr>\n",
       "    <tr>\n",
       "      <th>1</th>\n",
       "      <td>Colleen</td>\n",
       "      <td>Marie</td>\n",
       "      <td>Abbott</td>\n",
       "      <td>Applied Soc Sci</td>\n",
       "      <td>SPECIALIST</td>\n",
       "      <td>51000.0</td>\n",
       "      <td>COLUM/HOSPT/UMSYS</td>\n",
       "      <td>salary</td>\n",
       "      <td>female</td>\n",
       "    </tr>\n",
       "    <tr>\n",
       "      <th>2</th>\n",
       "      <td>Jeanne</td>\n",
       "      <td>Martha</td>\n",
       "      <td>Abbott</td>\n",
       "      <td>JournalismPROF, A</td>\n",
       "      <td>SOC PROFL PRACTICE</td>\n",
       "      <td>68995.0</td>\n",
       "      <td>COLUM/HOSPT/UMSYS</td>\n",
       "      <td>salary</td>\n",
       "      <td>female</td>\n",
       "    </tr>\n",
       "    <tr>\n",
       "      <th>3</th>\n",
       "      <td>Kati</td>\n",
       "      <td>Marie</td>\n",
       "      <td>Abbott</td>\n",
       "      <td>EconomicsACADEMIC A</td>\n",
       "      <td>DVISOR</td>\n",
       "      <td>36700.0</td>\n",
       "      <td>COLUM/HOSPT/UMSYS</td>\n",
       "      <td>salary</td>\n",
       "      <td>female</td>\n",
       "    </tr>\n",
       "    <tr>\n",
       "      <th>4</th>\n",
       "      <td>Amr</td>\n",
       "      <td>Samy Mohamed</td>\n",
       "      <td>Abdelaziz</td>\n",
       "      <td>RadiologyPROF, A</td>\n",
       "      <td>ST CLINCL DEPT</td>\n",
       "      <td>260000.0</td>\n",
       "      <td>COLUM/HOSPT/UMSYS</td>\n",
       "      <td>salary</td>\n",
       "      <td>male</td>\n",
       "    </tr>\n",
       "  </tbody>\n",
       "</table>\n",
       "</div>"
      ],
      "text/plain": [
       "  First_Name   Middle_Name  Last_name            Department  \\\n",
       "0     Carmen      Casanova     Abbott  SHP/Physical Therapy   \n",
       "1    Colleen         Marie     Abbott       Applied Soc Sci   \n",
       "2     Jeanne        Martha     Abbott     JournalismPROF, A   \n",
       "3       Kati         Marie     Abbott   EconomicsACADEMIC A   \n",
       "4        Amr  Samy Mohamed  Abdelaziz      RadiologyPROF, A   \n",
       "\n",
       "            Job_Title      Rate           Location Hourly_Salary Gender_Guess  \n",
       "0        PROF, CLINCL   69287.0  COLUM/HOSPT/UMSYS        salary       female  \n",
       "1          SPECIALIST   51000.0  COLUM/HOSPT/UMSYS        salary       female  \n",
       "2  SOC PROFL PRACTICE   68995.0  COLUM/HOSPT/UMSYS        salary       female  \n",
       "3              DVISOR   36700.0  COLUM/HOSPT/UMSYS        salary       female  \n",
       "4      ST CLINCL DEPT  260000.0  COLUM/HOSPT/UMSYS        salary         male  "
      ]
     },
     "execution_count": 3,
     "metadata": {},
     "output_type": "execute_result"
    }
   ],
   "source": [
    "df.head()"
   ]
  },
  {
   "cell_type": "markdown",
   "metadata": {},
   "source": [
    "- Null Hypothesis: Male salaries are less than or equal to female salaries\n",
    "- Alternative Hypothesis: Male salaries are greater then female salaries"
   ]
  },
  {
   "cell_type": "code",
   "execution_count": 6,
   "metadata": {},
   "outputs": [
    {
     "data": {
      "text/plain": [
       "15333.55077797515"
      ]
     },
     "execution_count": 6,
     "metadata": {},
     "output_type": "execute_result"
    }
   ],
   "source": [
    "# get baseline difference \n",
    "males = df.loc[df['Gender_Guess'] == 'male', 'Rate']\n",
    "females = df.loc[df['Gender_Guess'] == 'female', 'Rate']\n",
    "\n",
    "baseline_difference = np.mean(males) - np.mean(females)\n",
    "baseline_difference"
   ]
  },
  {
   "cell_type": "code",
   "execution_count": 38,
   "metadata": {
    "collapsed": true
   },
   "outputs": [],
   "source": [
    "from scipy.special import comb"
   ]
  },
  {
   "cell_type": "code",
   "execution_count": 39,
   "metadata": {},
   "outputs": [
    {
     "data": {
      "text/plain": [
       "inf"
      ]
     },
     "execution_count": 39,
     "metadata": {},
     "output_type": "execute_result"
    }
   ],
   "source": [
    "comb(9951, 4989)"
   ]
  },
  {
   "cell_type": "code",
   "execution_count": 12,
   "metadata": {
    "collapsed": true
   },
   "outputs": [],
   "source": [
    "sample_a = df.sample(n = len(males))\n",
    "sample_b = df.drop(sample_a.index)"
   ]
  },
  {
   "cell_type": "code",
   "execution_count": 14,
   "metadata": {},
   "outputs": [
    {
     "data": {
      "text/plain": [
       "((9951, 9), (4989, 9), (4962, 9))"
      ]
     },
     "execution_count": 14,
     "metadata": {},
     "output_type": "execute_result"
    }
   ],
   "source": [
    "df.shape, sample_a.shape, sample_b.shape"
   ]
  },
  {
   "cell_type": "code",
   "execution_count": 16,
   "metadata": {},
   "outputs": [
    {
     "data": {
      "text/plain": [
       "-2177.7340033200016"
      ]
     },
     "execution_count": 16,
     "metadata": {},
     "output_type": "execute_result"
    }
   ],
   "source": [
    "sample_a['Rate'].mean() - sample_b['Rate'].mean()"
   ]
  },
  {
   "cell_type": "code",
   "execution_count": 30,
   "metadata": {},
   "outputs": [
    {
     "name": "stdout",
     "output_type": "stream",
     "text": [
      "Completed 0 iterations\n",
      "Completed 10000 iterations\n",
      "Completed 20000 iterations\n",
      "Completed 30000 iterations\n",
      "Completed 40000 iterations\n",
      "Completed 50000 iterations\n",
      "Completed 60000 iterations\n",
      "Completed 70000 iterations\n",
      "Completed 80000 iterations\n",
      "Completed 90000 iterations\n",
      "Completed 100000 iterations\n",
      "Completed 110000 iterations\n",
      "Completed 120000 iterations\n",
      "Completed 130000 iterations\n",
      "Completed 140000 iterations\n",
      "Completed 150000 iterations\n",
      "Completed 160000 iterations\n",
      "Completed 170000 iterations\n",
      "Completed 180000 iterations\n",
      "Completed 190000 iterations\n",
      "Completed 200000 iterations\n",
      "Completed 210000 iterations\n",
      "Completed 220000 iterations\n",
      "Completed 230000 iterations\n",
      "Completed 240000 iterations\n",
      "Completed 250000 iterations\n",
      "Completed 260000 iterations\n",
      "Completed 270000 iterations\n",
      "Completed 280000 iterations\n",
      "Completed 290000 iterations\n",
      "Completed 300000 iterations\n",
      "Completed 310000 iterations\n",
      "Completed 320000 iterations\n",
      "Completed 330000 iterations\n",
      "Completed 340000 iterations\n",
      "Completed 350000 iterations\n",
      "Completed 360000 iterations\n",
      "Completed 370000 iterations\n",
      "Completed 380000 iterations\n",
      "Completed 390000 iterations\n",
      "Completed 400000 iterations\n",
      "Completed 410000 iterations\n",
      "Completed 420000 iterations\n",
      "Completed 430000 iterations\n",
      "Completed 440000 iterations\n",
      "Completed 450000 iterations\n",
      "Completed 460000 iterations\n",
      "Completed 470000 iterations\n",
      "Completed 480000 iterations\n",
      "Completed 490000 iterations\n",
      "Completed 500000 iterations\n",
      "Completed 510000 iterations\n",
      "Completed 520000 iterations\n",
      "Completed 530000 iterations\n",
      "Completed 540000 iterations\n",
      "Completed 550000 iterations\n",
      "Completed 560000 iterations\n",
      "Completed 570000 iterations\n",
      "Completed 580000 iterations\n",
      "Completed 590000 iterations\n",
      "Completed 600000 iterations\n",
      "Completed 610000 iterations\n",
      "Completed 620000 iterations\n",
      "Completed 630000 iterations\n",
      "Completed 640000 iterations\n",
      "Completed 650000 iterations\n",
      "Completed 660000 iterations\n",
      "Completed 670000 iterations\n",
      "Completed 680000 iterations\n",
      "Completed 690000 iterations\n",
      "Completed 700000 iterations\n",
      "Completed 710000 iterations\n",
      "Completed 720000 iterations\n",
      "Completed 730000 iterations\n",
      "Completed 740000 iterations\n",
      "Completed 750000 iterations\n",
      "Completed 760000 iterations\n",
      "Completed 770000 iterations\n",
      "Completed 780000 iterations\n",
      "Completed 790000 iterations\n",
      "Completed 800000 iterations\n",
      "Completed 810000 iterations\n",
      "Completed 820000 iterations\n",
      "Completed 830000 iterations\n",
      "Completed 840000 iterations\n",
      "Completed 850000 iterations\n",
      "Completed 860000 iterations\n",
      "Completed 870000 iterations\n",
      "Completed 880000 iterations\n",
      "Completed 890000 iterations\n",
      "Completed 900000 iterations\n",
      "Completed 910000 iterations\n",
      "Completed 920000 iterations\n",
      "Completed 930000 iterations\n",
      "Completed 940000 iterations\n",
      "Completed 950000 iterations\n",
      "Completed 960000 iterations\n",
      "Completed 970000 iterations\n",
      "Completed 980000 iterations\n",
      "Completed 990000 iterations\n",
      "CPU times: user 46min, sys: 15.9 s, total: 46min 16s\n",
      "Wall time: 46min 32s\n"
     ]
    }
   ],
   "source": [
    "%%time\n",
    "differences = []\n",
    "counter = 0\n",
    "for i in range(1000000):\n",
    "    if i % 10000 == 0:\n",
    "        print(f'Completed {i} iterations')\n",
    "    sample_a = df.sample(n = len(males))\n",
    "    sample_b = df.drop(sample_a.index)\n",
    "    sample_diff = sample_a['Rate'].mean() - sample_b['Rate'].mean()\n",
    "    differences.append(sample_diff)\n",
    "    if sample_diff > baseline_difference:\n",
    "        counter += 1"
   ]
  },
  {
   "cell_type": "code",
   "execution_count": 31,
   "metadata": {},
   "outputs": [
    {
     "data": {
      "text/plain": [
       "0"
      ]
     },
     "execution_count": 31,
     "metadata": {},
     "output_type": "execute_result"
    }
   ],
   "source": [
    "counter "
   ]
  },
  {
   "cell_type": "code",
   "execution_count": 34,
   "metadata": {},
   "outputs": [
    {
     "data": {
      "text/plain": [
       "<matplotlib.lines.Line2D at 0x121ce6080>"
      ]
     },
     "execution_count": 34,
     "metadata": {},
     "output_type": "execute_result"
    },
    {
     "data": {
      "image/png": "[encoded data removed]",
      "text/plain": [
       "<Figure size 432x288 with 1 Axes>"
      ]
     },
     "metadata": {
      "needs_background": "light"
     },
     "output_type": "display_data"
    }
   ],
   "source": [
    "plt.hist(differences)\n",
    "plt.axvline(baseline_difference)"
   ]
  },
  {
   "cell_type": "code",
   "execution_count": 37,
   "metadata": {},
   "outputs": [
    {
     "name": "stdout",
     "output_type": "stream",
     "text": [
      "Completed 0 iterations\n",
      "Completed 1000 iterations\n",
      "Completed 2000 iterations\n",
      "Completed 3000 iterations\n",
      "Completed 4000 iterations\n",
      "Completed 5000 iterations\n",
      "Completed 6000 iterations\n",
      "Completed 7000 iterations\n",
      "Completed 8000 iterations\n",
      "Completed 9000 iterations\n",
      "CPU times: user 26.5 s, sys: 150 ms, total: 26.7 s\n",
      "Wall time: 26.7 s\n"
     ]
    }
   ],
   "source": [
    "%%time\n",
    "differences = []\n",
    "counter = 0\n",
    "for i in range(10000):\n",
    "    if i % 1000 == 0:\n",
    "        print(f'Completed {i} iterations')\n",
    "    sample_a = df.sample(n = len(males))\n",
    "    sample_b = df.drop(sample_a.index)\n",
    "    sample_diff = sample_a['Rate'].mean() - sample_b['Rate'].mean()\n",
    "    differences.append(sample_diff)\n",
    "    if sample_diff > 5000:\n",
    "        counter += 1"
   ]
  },
  {
   "cell_type": "markdown",
   "metadata": {},
   "source": [
    "Reject the null hypothesis and conclude that men on average get paid more then women "
   ]
  },
  {
   "cell_type": "code",
   "execution_count": null,
   "metadata": {
    "collapsed": true
   },
   "outputs": [],
   "source": []
  }
 ],
 "metadata": {
  "kernelspec": {
   "display_name": "Python 3",
   "language": "python",
   "name": "python3"
  },
  "language_info": {
   "codemirror_mode": {
    "name": "ipython",
    "version": 3
   },
   "file_extension": ".py",
   "mimetype": "text/x-python",
   "name": "python",
   "nbconvert_exporter": "python",
   "pygments_lexer": "ipython3",
   "version": "3.6.5"
  }
 },
 "nbformat": 4,
 "nbformat_minor": 2
}
